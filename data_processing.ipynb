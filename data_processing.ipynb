{
 "cells": [
  {
   "cell_type": "code",
   "execution_count": 59,
   "metadata": {},
   "outputs": [],
   "source": [
    "from bs4 import BeautifulSoup, Tag\n",
    "import pandas as pd\n",
    "from typing import TypedDict, Optional, List"
   ]
  },
  {
   "cell_type": "markdown",
   "metadata": {},
   "source": [
    "### Data types of retrieved information"
   ]
  },
  {
   "cell_type": "code",
   "execution_count": null,
   "metadata": {},
   "outputs": [],
   "source": [
    "class IndexRecord(TypedDict):\n",
    "    \"\"\"\n",
    "    Class representing a single record of an index\n",
    "    \"\"\"\n",
    "\n",
    "    date: Optional[str]\n",
    "    price_at_opening: Optional[pd.Float32Dtype]\n",
    "    max_price: Optional[pd.Float32Dtype]\n",
    "    min_price: Optional[pd.Float32Dtype]\n",
    "    price_at_closure: Optional[pd.Float32Dtype]\n",
    "    volume_of_trade: Optional[pd.Float32Dtype]\n",
    "    capitalization: Optional[pd.Float32Dtype]"
   ]
  },
  {
   "cell_type": "markdown",
   "metadata": {},
   "source": [
    "### Scraping"
   ]
  },
  {
   "cell_type": "code",
   "execution_count": 60,
   "metadata": {},
   "outputs": [],
   "source": [
    "def convert_to_df(soup_table: Tag) -> pd.DataFrame:\n",
    "    \"\"\"\n",
    "    Converts a table into a pandas dataframe with string values\n",
    "    \n",
    "    Arguments:\n",
    "        soup_table (Tag): table in the html format\n",
    "    \n",
    "    Returns:\n",
    "        pd.Dataframe: dataframe with retrieved information\n",
    "    \"\"\"\n",
    "    columns = [header.text.strip() for header in soup_table.find('thead').find_all('th')]\n",
    "    assert len(columns) == 7\n",
    "    \n",
    "    data: List[IndexRecord] = []\n",
    "\n",
    "    assert soup_table.find('tbody') is not None\n",
    "    tbody = soup_table.find('tbody')\n",
    "    assert tbody.find('tr') is not None\n",
    "\n",
    "    for row in tbody.find_all('tr'):\n",
    "        elements = row.find_all('td')\n",
    "        assert len(elements) == 7\n",
    "        data.append([element.text.strip() for element in elements])\n",
    "    \n",
    "    return pd.DataFrame(data, columns=columns)\n",
    "        "
   ]
  },
  {
   "cell_type": "code",
   "execution_count": null,
   "metadata": {},
   "outputs": [],
   "source": [
    "# load the specified page\n",
    "with open('pages/page.html', 'r', encoding='UTF-8') as f:\n",
    "    html = f.read()"
   ]
  },
  {
   "cell_type": "code",
   "execution_count": 32,
   "metadata": {},
   "outputs": [],
   "source": [
    "soup = BeautifulSoup(html, 'html.parser')\n",
    "table = soup.find('div', {'class': 'ui-table__container'}).find('table')\n",
    "assert table is not None"
   ]
  },
  {
   "cell_type": "code",
   "execution_count": 56,
   "metadata": {},
   "outputs": [],
   "source": [
    "df = convert_to_df(table)"
   ]
  },
  {
   "cell_type": "code",
   "execution_count": 57,
   "metadata": {},
   "outputs": [
    {
     "data": {
      "text/html": [
       "<div>\n",
       "<style scoped>\n",
       "    .dataframe tbody tr th:only-of-type {\n",
       "        vertical-align: middle;\n",
       "    }\n",
       "\n",
       "    .dataframe tbody tr th {\n",
       "        vertical-align: top;\n",
       "    }\n",
       "\n",
       "    .dataframe thead th {\n",
       "        text-align: right;\n",
       "    }\n",
       "</style>\n",
       "<table border=\"1\" class=\"dataframe\">\n",
       "  <thead>\n",
       "    <tr style=\"text-align: right;\">\n",
       "      <th></th>\n",
       "      <th>Дата</th>\n",
       "      <th>Открытие</th>\n",
       "      <th>Максимум</th>\n",
       "      <th>Минимум</th>\n",
       "      <th>Закрытие</th>\n",
       "      <th>Объем, RUB</th>\n",
       "      <th>Капитализация, RUB</th>\n",
       "    </tr>\n",
       "  </thead>\n",
       "  <tbody>\n",
       "    <tr>\n",
       "      <th>0</th>\n",
       "      <td>27.02.2025</td>\n",
       "      <td>3 249,63</td>\n",
       "      <td>3 261,13</td>\n",
       "      <td>3 190,72</td>\n",
       "      <td>3 232,65</td>\n",
       "      <td>101 069 017 703,52</td>\n",
       "      <td>6 991 269 568 114,285</td>\n",
       "    </tr>\n",
       "    <tr>\n",
       "      <th>1</th>\n",
       "      <td>26.02.2025</td>\n",
       "      <td>3 338,4</td>\n",
       "      <td>3 339,41</td>\n",
       "      <td>3 233,39</td>\n",
       "      <td>3 276</td>\n",
       "      <td>134 684 772 736,37</td>\n",
       "      <td>7 085 025 987 193,121</td>\n",
       "    </tr>\n",
       "    <tr>\n",
       "      <th>2</th>\n",
       "      <td>25.02.2025</td>\n",
       "      <td>3 362,15</td>\n",
       "      <td>3 371,06</td>\n",
       "      <td>3 320,24</td>\n",
       "      <td>3 326,14</td>\n",
       "      <td>139 815 174 833,9</td>\n",
       "      <td>7 193 456 708 246,5</td>\n",
       "    </tr>\n",
       "    <tr>\n",
       "      <th>3</th>\n",
       "      <td>24.02.2025</td>\n",
       "      <td>3 310,75</td>\n",
       "      <td>3 316,42</td>\n",
       "      <td>3 272,99</td>\n",
       "      <td>3 303,63</td>\n",
       "      <td>87 195 616 629,4</td>\n",
       "      <td>7 144 764 358 692,558</td>\n",
       "    </tr>\n",
       "    <tr>\n",
       "      <th>4</th>\n",
       "      <td>21.02.2025</td>\n",
       "      <td>3 310,03</td>\n",
       "      <td>3 320,05</td>\n",
       "      <td>3 258,82</td>\n",
       "      <td>3 283,29</td>\n",
       "      <td>94 601 047 430,17</td>\n",
       "      <td>7 100 792 330 158,207</td>\n",
       "    </tr>\n",
       "  </tbody>\n",
       "</table>\n",
       "</div>"
      ],
      "text/plain": [
       "         Дата  Открытие  Максимум   Минимум  Закрытие          Объем, RUB  \\\n",
       "0  27.02.2025  3 249,63  3 261,13  3 190,72  3 232,65  101 069 017 703,52   \n",
       "1  26.02.2025   3 338,4  3 339,41  3 233,39     3 276  134 684 772 736,37   \n",
       "2  25.02.2025  3 362,15  3 371,06  3 320,24  3 326,14   139 815 174 833,9   \n",
       "3  24.02.2025  3 310,75  3 316,42  3 272,99  3 303,63    87 195 616 629,4   \n",
       "4  21.02.2025  3 310,03  3 320,05  3 258,82  3 283,29   94 601 047 430,17   \n",
       "\n",
       "      Капитализация, RUB  \n",
       "0  6 991 269 568 114,285  \n",
       "1  7 085 025 987 193,121  \n",
       "2    7 193 456 708 246,5  \n",
       "3  7 144 764 358 692,558  \n",
       "4  7 100 792 330 158,207  "
      ]
     },
     "execution_count": 57,
     "metadata": {},
     "output_type": "execute_result"
    }
   ],
   "source": [
    "df.head()"
   ]
  },
  {
   "cell_type": "code",
   "execution_count": null,
   "metadata": {},
   "outputs": [],
   "source": []
  }
 ],
 "metadata": {
  "kernelspec": {
   "display_name": "venv",
   "language": "python",
   "name": "python3"
  },
  "language_info": {
   "codemirror_mode": {
    "name": "ipython",
    "version": 3
   },
   "file_extension": ".py",
   "mimetype": "text/x-python",
   "name": "python",
   "nbconvert_exporter": "python",
   "pygments_lexer": "ipython3",
   "version": "3.11.2"
  }
 },
 "nbformat": 4,
 "nbformat_minor": 2
}
